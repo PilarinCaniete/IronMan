{
 "cells": [
  {
   "cell_type": "code",
   "execution_count": 1,
   "metadata": {},
   "outputs": [],
   "source": [
    "%run ./src/MC.py"
   ]
  },
  {
   "cell_type": "code",
   "execution_count": 2,
   "metadata": {},
   "outputs": [],
   "source": [
    "%matplotlib widget"
   ]
  },
  {
   "cell_type": "markdown",
   "metadata": {},
   "source": [
    "# Monte Carlo simulations"
   ]
  },
  {
   "cell_type": "markdown",
   "metadata": {},
   "source": [
    "During the analysis of the simulations, I already made and try the interpolations functions to later use on demagnetizing factor substraction if we want to."
   ]
  },
  {
   "cell_type": "markdown",
   "metadata": {},
   "source": [
    "## DTO"
   ]
  },
  {
   "cell_type": "markdown",
   "metadata": {},
   "source": [
    "### M"
   ]
  },
  {
   "cell_type": "code",
   "execution_count": 3,
   "metadata": {},
   "outputs": [
    {
     "data": {
      "application/vnd.jupyter.widget-view+json": {
       "model_id": "d2cd032ab80a4d94a7404c6a7d69e7e5",
       "version_major": 2,
       "version_minor": 0
      },
      "text/plain": [
       "FigureCanvasNbAgg()"
      ]
     },
     "metadata": {},
     "output_type": "display_data"
    }
   ],
   "source": [
    "# Axes\n",
    "fig, ax = plt.subplots(figsize=(11,5))\n",
    "\n",
    "\n",
    "# Temps\n",
    "T = np.array([0.7, 0.8, 0.9, 1.0, 1.1, 1.2, 1.4, 1.6])\n",
    "\n",
    "\n",
    "# Monte Carlo\n",
    "M = []\n",
    "for temp in T:   \n",
    "    # File\n",
    "    filename = './190606-MC/Dy/H100/L4_T' + str(temp) + '.dat'\n",
    "    df = Read(filename)\n",
    "    \n",
    "    \n",
    "    # Sweep Up\n",
    "    sweep = []\n",
    "    for i,B in enumerate(df['B'][:-1]):\n",
    "        if B <= df['B'][i+1]:\n",
    "            sweep.append('up')\n",
    "        else:\n",
    "            sweep.append('down')\n",
    "    sweep.append(sweep[-1])\n",
    "    df['sweep'] = sweep\n",
    "    df = df[df['sweep']=='up']\n",
    "    \n",
    "    \n",
    "    # First interpolation (No todos tienen la misma cantidad de datos)\n",
    "    tck = splrep(df['B'], df['M'], s=0)\n",
    "    x = np.linspace(0,round(df['B'].max(),1),100)\n",
    "    y = splev(x, tck)\n",
    "    \n",
    "    \n",
    "    # Plot\n",
    "    ax.plot(x, y, label='T = '+str(temp))\n",
    "    \n",
    "    \n",
    "    # Values of M to interpolate\n",
    "    M.append(y)\n",
    "\n",
    "\n",
    "# Interpolation\n",
    "B = x\n",
    "M = np.array(M)\n",
    "\n",
    "MvsB_Dy_100 = interpolate.interp2d(B, T, M, kind='cubic', fill_value=1/math.sqrt(3))\n",
    "    \n",
    "    \n",
    "# Labels\n",
    "Labels(ax, 'B$_{\\mathrm{local}}$ (T)', 'M ($\\mu_{\\mathrm{Dy}}$ / Dy)', '1')"
   ]
  },
  {
   "cell_type": "markdown",
   "metadata": {},
   "source": [
    "### $\\chi$"
   ]
  },
  {
   "cell_type": "code",
   "execution_count": 4,
   "metadata": {},
   "outputs": [
    {
     "data": {
      "application/vnd.jupyter.widget-view+json": {
       "model_id": "8add2c02eb5342629ef6116add0c400f",
       "version_major": 2,
       "version_minor": 0
      },
      "text/plain": [
       "FigureCanvasNbAgg()"
      ]
     },
     "metadata": {},
     "output_type": "display_data"
    }
   ],
   "source": [
    "# Axes\n",
    "fig, ax = plt.subplots(figsize=(11,5))\n",
    "\n",
    "\n",
    "# Temps\n",
    "T = np.array([0.7, 0.8, 0.9, 1.0, 1.1, 1.2, 1.4, 1.6])\n",
    "\n",
    "\n",
    "# Monte Carlo\n",
    "M = []\n",
    "for temp in T:   \n",
    "    # File\n",
    "    filename = './190606-MC/Dy/H100/L4_T' + str(temp) + '.dat'\n",
    "    df = Read(filename)\n",
    "    \n",
    "    \n",
    "    # Sweep Up\n",
    "    sweep = []\n",
    "    for i,B in enumerate(df['B'][:-1]):\n",
    "        if B <= df['B'][i+1]:\n",
    "            sweep.append('up')\n",
    "        else:\n",
    "            sweep.append('down')\n",
    "    sweep.append(sweep[-1])\n",
    "    df['sweep'] = sweep\n",
    "    df = df[df['sweep']=='up']\n",
    "    \n",
    "    \n",
    "    # Plot\n",
    "    ax.plot(df['B'], df['Chi'], label='T = '+str(temp))\n",
    "    \n",
    "    \n",
    "# Labels\n",
    "Labels(ax, 'B$_{\\mathrm{local}}$ (T)', '$\\chi$', '2')"
   ]
  },
  {
   "cell_type": "markdown",
   "metadata": {},
   "source": [
    "## HTO"
   ]
  },
  {
   "cell_type": "markdown",
   "metadata": {},
   "source": [
    "### M"
   ]
  },
  {
   "cell_type": "code",
   "execution_count": 5,
   "metadata": {},
   "outputs": [
    {
     "data": {
      "application/vnd.jupyter.widget-view+json": {
       "model_id": "baab81bdc5d148d78d9eebe13810a3d5",
       "version_major": 2,
       "version_minor": 0
      },
      "text/plain": [
       "FigureCanvasNbAgg()"
      ]
     },
     "metadata": {},
     "output_type": "display_data"
    }
   ],
   "source": [
    "# Axes\n",
    "fig, ax = plt.subplots(figsize=(11,5))\n",
    "\n",
    "\n",
    "# Temps\n",
    "T = np.array([0.8, 0.9, 1.0, 1.1, 1.2, 1.4, 1.6, 1.7, 1.9, 2.1, 2.5, 2.7])\n",
    "\n",
    "\n",
    "# Monte Carlo\n",
    "M = []\n",
    "for temp in T:   \n",
    "    # File\n",
    "    filename = './190606-MC/Ho/H100/L4_T' + str(temp) + '.dat'\n",
    "    df = Read(filename)\n",
    "    \n",
    "    \n",
    "    # Sweep Up\n",
    "    sweep = []\n",
    "    for i,B in enumerate(df['B'][:-1]):\n",
    "        if B <= df['B'][i+1]:\n",
    "            sweep.append('up')\n",
    "        else:\n",
    "            sweep.append('down')\n",
    "    sweep.append(sweep[-1])\n",
    "    df['sweep'] = sweep\n",
    "    df = df[df['sweep']=='up']\n",
    "    \n",
    "    \n",
    "    # First interpolation (No todos tienen la misma cantidad de datos)\n",
    "    tck = splrep(df['B'], df['M'], s=0)\n",
    "    x = np.linspace(0,round(df['B'].max(),1),100)\n",
    "    y = splev(x, tck)\n",
    "    \n",
    "    \n",
    "    # Plot\n",
    "    ax.plot(x, y, label='T = '+str(temp))\n",
    "    \n",
    "    \n",
    "    # Values of M to interpolate\n",
    "    M.append(y)\n",
    "\n",
    "\n",
    "# Interpolation\n",
    "B = x\n",
    "M = np.array(M)\n",
    "\n",
    "MvsB_Ho_100 = interpolate.interp2d(B, T, M, kind='cubic', fill_value=1/math.sqrt(3))\n",
    "    \n",
    "    \n",
    "# Labels\n",
    "Labels(ax, 'B$_{\\mathrm{local}}$ (T)', 'M ($\\mu_{\\mathrm{Ho}}$ / Ho)', '3')"
   ]
  },
  {
   "cell_type": "markdown",
   "metadata": {},
   "source": [
    "### $\\chi$"
   ]
  },
  {
   "cell_type": "code",
   "execution_count": 6,
   "metadata": {},
   "outputs": [
    {
     "data": {
      "application/vnd.jupyter.widget-view+json": {
       "model_id": "ddd56518acb84ba78cf25f30f495c6ec",
       "version_major": 2,
       "version_minor": 0
      },
      "text/plain": [
       "FigureCanvasNbAgg()"
      ]
     },
     "metadata": {},
     "output_type": "display_data"
    }
   ],
   "source": [
    "# Axes\n",
    "fig, ax = plt.subplots(figsize=(11,5))\n",
    "\n",
    "\n",
    "# Temps\n",
    "T = np.array([0.8, 0.9, 1.0, 1.1, 1.2, 1.4, 1.6, 1.7, 1.9, 2.1, 2.5, 2.7])\n",
    "\n",
    "\n",
    "# Monte Carlo\n",
    "M = []\n",
    "for temp in T:   \n",
    "    # File\n",
    "    filename = './190606-MC/Ho/H100/L4_T' + str(temp) + '.dat'\n",
    "    df = Read(filename)\n",
    "    \n",
    "    \n",
    "    # Sweep Up\n",
    "    sweep = []\n",
    "    for i,B in enumerate(df['B'][:-1]):\n",
    "        if B <= df['B'][i+1]:\n",
    "            sweep.append('up')\n",
    "        else:\n",
    "            sweep.append('down')\n",
    "    sweep.append(sweep[-1])\n",
    "    df['sweep'] = sweep\n",
    "    df = df[df['sweep']=='up']\n",
    "    \n",
    "    \n",
    "    # Plot\n",
    "    ax.plot(df['B'], df['Chi'], label='T = '+str(temp))\n",
    "    \n",
    "    \n",
    "# Labels\n",
    "Labels(ax, 'B$_{\\mathrm{local}}$ (T)', '$\\chi$', '4')"
   ]
  },
  {
   "cell_type": "markdown",
   "metadata": {
    "toc-hr-collapsed": false
   },
   "source": [
    "# Plotting B / T"
   ]
  },
  {
   "cell_type": "markdown",
   "metadata": {},
   "source": [
    "## DTO"
   ]
  },
  {
   "cell_type": "markdown",
   "metadata": {},
   "source": [
    "### M"
   ]
  },
  {
   "cell_type": "code",
   "execution_count": 7,
   "metadata": {},
   "outputs": [
    {
     "data": {
      "application/vnd.jupyter.widget-view+json": {
       "model_id": "55f1cba8826842d6a43833858ca47caa",
       "version_major": 2,
       "version_minor": 0
      },
      "text/plain": [
       "FigureCanvasNbAgg()"
      ]
     },
     "metadata": {},
     "output_type": "display_data"
    }
   ],
   "source": [
    "# Axes\n",
    "fig, ax = plt.subplots(figsize=(11,5))\n",
    "\n",
    "\n",
    "# Temps\n",
    "T = np.array([0.7, 0.8, 0.9, 1.0, 1.1, 1.2, 1.4, 1.6])\n",
    "\n",
    "\n",
    "# Monte Carlo\n",
    "M = []\n",
    "for temp in T:   \n",
    "    # File\n",
    "    filename = './190606-MC/Dy/H100/L4_T' + str(temp) + '.dat'\n",
    "    df = Read(filename)\n",
    "    \n",
    "    \n",
    "    # Sweep Up\n",
    "    sweep = []\n",
    "    for i,B in enumerate(df['B'][:-1]):\n",
    "        if B <= df['B'][i+1]:\n",
    "            sweep.append('up')\n",
    "        else:\n",
    "            sweep.append('down')\n",
    "    sweep.append(sweep[-1])\n",
    "    df['sweep'] = sweep\n",
    "    df = df[df['sweep']=='up']\n",
    "    \n",
    "    \n",
    "    # First interpolation (No todos tienen la misma cantidad de datos)\n",
    "    tck = splrep(df['B'], df['M'], s=0)\n",
    "    x = np.linspace(0,round(df['B'].max(),1),100)\n",
    "    y = splev(x, tck)\n",
    "    \n",
    "    \n",
    "    # Plot\n",
    "    ax.plot(x/temp, y, label='T = '+str(temp))\n",
    "    \n",
    "    \n",
    "    # Values of M to interpolate\n",
    "    M.append(y)\n",
    "\n",
    "\n",
    "# Interpolation\n",
    "B = x\n",
    "M = np.array(M)\n",
    "\n",
    "MvsB_Dy_100 = interpolate.interp2d(B, T, M, kind='cubic', fill_value=1/math.sqrt(3))\n",
    "    \n",
    "    \n",
    "# Labels\n",
    "Labels(ax, 'B$_{\\mathrm{local}}$ / T (T/K)', 'M ($\\mu_{\\mathrm{Dy}}$ / Dy)', '5')"
   ]
  },
  {
   "cell_type": "markdown",
   "metadata": {},
   "source": [
    "### $\\chi$ * T"
   ]
  },
  {
   "cell_type": "code",
   "execution_count": 8,
   "metadata": {},
   "outputs": [
    {
     "data": {
      "application/vnd.jupyter.widget-view+json": {
       "model_id": "c570e51e1e7d49f7b4a18bafd3bdf2ba",
       "version_major": 2,
       "version_minor": 0
      },
      "text/plain": [
       "FigureCanvasNbAgg()"
      ]
     },
     "metadata": {},
     "output_type": "display_data"
    }
   ],
   "source": [
    "# Axes\n",
    "fig, ax = plt.subplots(figsize=(11,5))\n",
    "\n",
    "\n",
    "# Temps\n",
    "T = np.array([0.7, 0.8, 0.9, 1.0, 1.1, 1.2, 1.4, 1.6])\n",
    "\n",
    "\n",
    "# Monte Carlo\n",
    "M = []\n",
    "for temp in T:   \n",
    "    # File\n",
    "    filename = './190606-MC/Dy/H100/L4_T' + str(temp) + '.dat'\n",
    "    df = Read(filename)\n",
    "    \n",
    "    \n",
    "    # Sweep Up\n",
    "    sweep = []\n",
    "    for i,B in enumerate(df['B'][:-1]):\n",
    "        if B <= df['B'][i+1]:\n",
    "            sweep.append('up')\n",
    "        else:\n",
    "            sweep.append('down')\n",
    "    sweep.append(sweep[-1])\n",
    "    df['sweep'] = sweep\n",
    "    df = df[df['sweep']=='up']\n",
    "    \n",
    "    \n",
    "    # Plot\n",
    "    ax.plot(df['B']/temp, df['Chi']*temp, label='T = '+str(temp))\n",
    "    \n",
    "    \n",
    "# Labels\n",
    "Labels(ax, 'B$_{\\mathrm{local}}$ / T (T/K)', '$\\chi$ * T', '6')"
   ]
  },
  {
   "cell_type": "markdown",
   "metadata": {},
   "source": [
    "## HTO"
   ]
  },
  {
   "cell_type": "markdown",
   "metadata": {},
   "source": [
    "### M"
   ]
  },
  {
   "cell_type": "code",
   "execution_count": 9,
   "metadata": {},
   "outputs": [
    {
     "data": {
      "application/vnd.jupyter.widget-view+json": {
       "model_id": "89a2af79806d47a9a349ceaf88678cbe",
       "version_major": 2,
       "version_minor": 0
      },
      "text/plain": [
       "FigureCanvasNbAgg()"
      ]
     },
     "metadata": {},
     "output_type": "display_data"
    }
   ],
   "source": [
    "# Axes\n",
    "fig, ax = plt.subplots(figsize=(11,5))\n",
    "\n",
    "\n",
    "# Temps\n",
    "T = np.array([0.8, 0.9, 1.0, 1.1, 1.2, 1.4, 1.6, 1.7, 1.9, 2.1, 2.5, 2.7])\n",
    "\n",
    "\n",
    "# Monte Carlo\n",
    "M = []\n",
    "for temp in T:   \n",
    "    # File\n",
    "    filename = './190606-MC/Ho/H100/L4_T' + str(temp) + '.dat'\n",
    "    df = Read(filename)\n",
    "    \n",
    "    \n",
    "    # Sweep Up\n",
    "    sweep = []\n",
    "    for i,B in enumerate(df['B'][:-1]):\n",
    "        if B <= df['B'][i+1]:\n",
    "            sweep.append('up')\n",
    "        else:\n",
    "            sweep.append('down')\n",
    "    sweep.append(sweep[-1])\n",
    "    df['sweep'] = sweep\n",
    "    df = df[df['sweep']=='up']\n",
    "    \n",
    "    \n",
    "    # First interpolation (No todos tienen la misma cantidad de datos)\n",
    "    tck = splrep(df['B'], df['M'], s=0)\n",
    "    x = np.linspace(0,round(df['B'].max(),1),100)\n",
    "    y = splev(x, tck)\n",
    "    \n",
    "    \n",
    "    # Plot\n",
    "    ax.plot(x/temp, y, label='T = '+str(temp))\n",
    "    \n",
    "    \n",
    "    # Values of M to interpolate\n",
    "    M.append(y)\n",
    "\n",
    "\n",
    "# Interpolation\n",
    "B = x\n",
    "M = np.array(M)\n",
    "\n",
    "MvsB_Ho_100 = interpolate.interp2d(B, T, M, kind='cubic', fill_value=1/math.sqrt(3))\n",
    "    \n",
    "    \n",
    "# Labels\n",
    "Labels(ax, 'B$_{\\mathrm{local}}$ / T (T/K)', 'M ($\\mu_{\\mathrm{Ho}}$ / Ho)', '7')"
   ]
  },
  {
   "cell_type": "markdown",
   "metadata": {},
   "source": [
    "### $\\chi$ * T"
   ]
  },
  {
   "cell_type": "code",
   "execution_count": 10,
   "metadata": {},
   "outputs": [
    {
     "data": {
      "application/vnd.jupyter.widget-view+json": {
       "model_id": "c8897b0b13184a4495323a71ac1e169b",
       "version_major": 2,
       "version_minor": 0
      },
      "text/plain": [
       "FigureCanvasNbAgg()"
      ]
     },
     "metadata": {},
     "output_type": "display_data"
    }
   ],
   "source": [
    "# Axes\n",
    "fig, ax = plt.subplots(figsize=(11,5))\n",
    "\n",
    "\n",
    "# Temps\n",
    "T = np.array([0.8, 0.9, 1.0, 1.1, 1.2, 1.4, 1.6, 1.7, 1.9, 2.1, 2.5, 2.7])\n",
    "\n",
    "\n",
    "# Monte Carlo\n",
    "M = []\n",
    "for temp in T:   \n",
    "    # File\n",
    "    filename = './190606-MC/Ho/H100/L4_T' + str(temp) + '.dat'\n",
    "    df = Read(filename)\n",
    "    \n",
    "    \n",
    "    # Sweep Up\n",
    "    sweep = []\n",
    "    for i,B in enumerate(df['B'][:-1]):\n",
    "        if B <= df['B'][i+1]:\n",
    "            sweep.append('up')\n",
    "        else:\n",
    "            sweep.append('down')\n",
    "    sweep.append(sweep[-1])\n",
    "    df['sweep'] = sweep\n",
    "    df = df[df['sweep']=='up']\n",
    "    \n",
    "    \n",
    "    # Plot\n",
    "    ax.plot(df['B']/temp, df['Chi']*temp, label='T = '+str(temp))\n",
    "    \n",
    "    \n",
    "# Labels\n",
    "Labels(ax, 'B$_{\\mathrm{local}}$ / T (T/K)', '$\\chi$ * T', '8')"
   ]
  },
  {
   "cell_type": "code",
   "execution_count": null,
   "metadata": {},
   "outputs": [],
   "source": []
  }
 ],
 "metadata": {
  "kernelspec": {
   "display_name": "Python 3",
   "language": "python",
   "name": "python3"
  },
  "language_info": {
   "codemirror_mode": {
    "name": "ipython",
    "version": 3
   },
   "file_extension": ".py",
   "mimetype": "text/x-python",
   "name": "python",
   "nbconvert_exporter": "python",
   "pygments_lexer": "ipython3",
   "version": "3.5.3"
  }
 },
 "nbformat": 4,
 "nbformat_minor": 2
}
