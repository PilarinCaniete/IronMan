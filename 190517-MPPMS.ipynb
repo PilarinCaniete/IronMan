{
 "cells": [
  {
   "cell_type": "code",
   "execution_count": 1,
   "metadata": {
    "hideCode": false,
    "hidePrompt": false
   },
   "outputs": [],
   "source": [
    "%run ./src/MPPMS.py"
   ]
  },
  {
   "cell_type": "code",
   "execution_count": 2,
   "metadata": {},
   "outputs": [],
   "source": [
    "%matplotlib widget"
   ]
  },
  {
   "cell_type": "code",
   "execution_count": 3,
   "metadata": {
    "hideCode": false,
    "hidePrompt": false
   },
   "outputs": [],
   "source": [
    "# %load ./paths.py\n",
    "Path1 = './190221-HTO_PPMS/'\n",
    "Path2 = './190302-Coils_PPMS/'\n",
    "Path3 = './190316-DTO_PPMS/'\n",
    "Path4 = './190317-SnCalibration_PPMS/'\n",
    "Path5 = './190322-HTO_PreStrainMeasurements/'\n",
    "Path6 = './190326-HTO_ZeroStrainMeasurements/'\n",
    "Path7 = './190329-HTO_StrainMeasurements/'\n",
    "Path8 = './190517-DTO_MPPMS/'\n",
    "Path9 = './190524-HTO_MPPMS/'"
   ]
  },
  {
   "cell_type": "markdown",
   "metadata": {
    "toc-hr-collapsed": false
   },
   "source": [
    "# Magnetization measurements using He3 MPPMS"
   ]
  },
  {
   "cell_type": "markdown",
   "metadata": {},
   "source": [
    "## DTO"
   ]
  },
  {
   "cell_type": "markdown",
   "metadata": {},
   "source": [
    "Sample: DTO8-A42"
   ]
  },
  {
   "cell_type": "markdown",
   "metadata": {},
   "source": [
    "Orientation: [1 0 0]"
   ]
  },
  {
   "cell_type": "markdown",
   "metadata": {},
   "source": [
    "Dimensions: 4.55 x 0.71 x 0.66 mm"
   ]
  },
  {
   "cell_type": "markdown",
   "metadata": {},
   "source": [
    "Weight: 11.74 mg"
   ]
  },
  {
   "cell_type": "markdown",
   "metadata": {},
   "source": [
    "### M"
   ]
  },
  {
   "cell_type": "code",
   "execution_count": 10,
   "metadata": {},
   "outputs": [
    {
     "data": {
      "application/vnd.jupyter.widget-view+json": {
       "model_id": "6ff3eed13a1c45859e2f627b99c7566a",
       "version_major": 2,
       "version_minor": 0
      },
      "text/plain": [
       "FigureCanvasNbAgg()"
      ]
     },
     "metadata": {},
     "output_type": "display_data"
    }
   ],
   "source": [
    "# Ax\n",
    "fig, ax = plt.subplots()\n",
    "\n",
    "\n",
    "# Files and plots\n",
    "for file in sorted(os.listdir(Path8)):\n",
    "    \n",
    "    filename=Path8+file\n",
    "    df = Read(filename)\n",
    "    UnitsDy(df, [.71,.66,4.55], 11.74)\n",
    "\n",
    "    ax.plot(df['B_real'], df['M'], label='DTO - ' + str(round(temperature(filename),2)) + ' K')   \n",
    "    \n",
    "\n",
    "# Labels\n",
    "Labels(ax, 'B$_{\\mathrm{local}}$ (T)', 'M ($\\mu_{\\mathrm{Dy}}$ / Dy)', '1')"
   ]
  },
  {
   "cell_type": "markdown",
   "metadata": {},
   "source": [
    "### $\\chi$"
   ]
  },
  {
   "cell_type": "code",
   "execution_count": 12,
   "metadata": {},
   "outputs": [
    {
     "data": {
      "application/vnd.jupyter.widget-view+json": {
       "model_id": "a7785368510d458bb781eab62dbfeb8e",
       "version_major": 2,
       "version_minor": 0
      },
      "text/plain": [
       "FigureCanvasNbAgg()"
      ]
     },
     "metadata": {},
     "output_type": "display_data"
    }
   ],
   "source": [
    "# Ax\n",
    "fig, ax = plt.subplots()\n",
    "\n",
    "\n",
    "# Files and plots\n",
    "for file in sorted(os.listdir(Path8)):\n",
    "    \n",
    "    filename=Path8+file\n",
    "    df = Read(filename)\n",
    "    UnitsDy(df, [.71,.66,4.55], 11.74)\n",
    "    df_der = Derivada(df, 'B_real', 'M')\n",
    "\n",
    "    ax.plot(df_der['H'], df_der['Chi'], label='DTO - ' + str(round(temperature(filename),2)) + ' K')\n",
    "\n",
    "\n",
    "# Labels\n",
    "Labels(ax, 'B$_{\\mathrm{local}}$ (T)', '$\\chi$', '2')"
   ]
  },
  {
   "cell_type": "markdown",
   "metadata": {},
   "source": [
    "## HTO"
   ]
  },
  {
   "cell_type": "markdown",
   "metadata": {},
   "source": [
    "Sample: HTO_Ox-A1."
   ]
  },
  {
   "cell_type": "markdown",
   "metadata": {},
   "source": [
    "Orientation: [1 0 0]"
   ]
  },
  {
   "cell_type": "markdown",
   "metadata": {},
   "source": [
    "Dimensions: 2.8 x 0.75 x 0.55 mm"
   ]
  },
  {
   "cell_type": "markdown",
   "metadata": {},
   "source": [
    "Weight: 7.5 mg"
   ]
  },
  {
   "cell_type": "markdown",
   "metadata": {},
   "source": [
    "### M"
   ]
  },
  {
   "cell_type": "code",
   "execution_count": 11,
   "metadata": {},
   "outputs": [
    {
     "data": {
      "application/vnd.jupyter.widget-view+json": {
       "model_id": "f9a12954d3c6487c8e297b056a492699",
       "version_major": 2,
       "version_minor": 0
      },
      "text/plain": [
       "FigureCanvasNbAgg()"
      ]
     },
     "metadata": {},
     "output_type": "display_data"
    }
   ],
   "source": [
    "# Ax\n",
    "fig, ax = plt.subplots()\n",
    "\n",
    "\n",
    "# Files and plots\n",
    "for file in sorted(os.listdir(Path9)):\n",
    "    \n",
    "    filename=Path9+file\n",
    "    df = Read(filename)\n",
    "    UnitsHo(df, [.75,.55,2.8], 7.5)\n",
    "\n",
    "    ax.plot(df['B_real'], df['M'], label='HTO - ' + str(round(temperature(filename),2)) + ' K')   \n",
    "    \n",
    "\n",
    "# Labels\n",
    "Labels(ax, 'B$_{\\mathrm{local}}$ (T)', 'M ($\\mu_{\\mathrm{Ho}}$ / Ho)', '3')"
   ]
  },
  {
   "cell_type": "markdown",
   "metadata": {},
   "source": [
    "### $\\chi$"
   ]
  },
  {
   "cell_type": "code",
   "execution_count": 14,
   "metadata": {},
   "outputs": [
    {
     "data": {
      "application/vnd.jupyter.widget-view+json": {
       "model_id": "754ce237a3a047f597f3ea0cc3ac16e6",
       "version_major": 2,
       "version_minor": 0
      },
      "text/plain": [
       "FigureCanvasNbAgg()"
      ]
     },
     "metadata": {},
     "output_type": "display_data"
    }
   ],
   "source": [
    "# Ax\n",
    "fig, ax = plt.subplots()\n",
    "\n",
    "\n",
    "# Files and plots\n",
    "for file in sorted(os.listdir(Path9)):\n",
    "    \n",
    "    filename=Path9+file\n",
    "    df = Read(filename)\n",
    "    UnitsHo(df, [.75,.55,2.8], 7.5)\n",
    "    df_der = Derivada(df, 'B_real', 'M')\n",
    "\n",
    "    ax.plot(df_der['H'], df_der['Chi'], label='HTO - ' + str(round(temperature(filename),2)) + ' K')\n",
    "\n",
    "\n",
    "# Labels\n",
    "Labels(ax, 'B$_{\\mathrm{local}}$ (T)', '$\\chi$', '4')"
   ]
  },
  {
   "cell_type": "markdown",
   "metadata": {
    "toc-hr-collapsed": false
   },
   "source": [
    "# Plotting B / T"
   ]
  },
  {
   "cell_type": "markdown",
   "metadata": {},
   "source": [
    "## DTO"
   ]
  },
  {
   "cell_type": "markdown",
   "metadata": {},
   "source": [
    "Sample: DTO8-A42"
   ]
  },
  {
   "cell_type": "markdown",
   "metadata": {},
   "source": [
    "Orientation: [1 0 0]"
   ]
  },
  {
   "cell_type": "markdown",
   "metadata": {},
   "source": [
    "Dimensions: 4.55 x 0.71 x 0.66 mm"
   ]
  },
  {
   "cell_type": "markdown",
   "metadata": {},
   "source": [
    "Weight: 11.74 mg"
   ]
  },
  {
   "cell_type": "markdown",
   "metadata": {},
   "source": [
    "### M"
   ]
  },
  {
   "cell_type": "code",
   "execution_count": 17,
   "metadata": {},
   "outputs": [
    {
     "data": {
      "application/vnd.jupyter.widget-view+json": {
       "model_id": "0b0d4b586bbc42b2a4e022d7a1cb108f",
       "version_major": 2,
       "version_minor": 0
      },
      "text/plain": [
       "FigureCanvasNbAgg()"
      ]
     },
     "metadata": {},
     "output_type": "display_data"
    }
   ],
   "source": [
    "# Ax\n",
    "fig, ax = plt.subplots()\n",
    "\n",
    "# 0.7K\n",
    "filename = Path8+'700mK_FC_DTO_20-05-2019.dc.idt'\n",
    "df = Read(filename)\n",
    "UnitsDy(df, [.71,.66,4.55], 11.74)\n",
    "\n",
    "ax.plot(df['B_real']/temperature(filename), df['M'], label='DTO - ' + str(round(temperature(filename),2)) + ' K')   \n",
    "\n",
    "\n",
    "# 0.9K\n",
    "filename = Path8+'900mK_slow_DTO_23-05-2019.dc.idt'\n",
    "df = Read(filename)\n",
    "UnitsDy(df, [.71,.66,4.55], 11.74)\n",
    "\n",
    "ax.plot(df['B_real']/temperature(filename), df['M'], label='DTO - ' + str(round(temperature(filename),2)) + ' K')   \n",
    "\n",
    "\n",
    "# 1K\n",
    "filename = Path8+'1000mK_FC_DTO_22-05-2019.dc.idt'\n",
    "df = Read(filename)\n",
    "UnitsDy(df, [.71,.66,4.55], 11.74)\n",
    "\n",
    "ax.plot(df['B_real']/temperature(filename), df['M'], label='DTO - ' + str(round(temperature(filename),2)) + ' K')   \n",
    "\n",
    "\n",
    "# 1.1K\n",
    "filename = Path8+'1100mK_FC_DTO_20-05-2019.dc.idt'\n",
    "df = Read(filename)\n",
    "UnitsDy(df, [.71,.66,4.55], 11.74)\n",
    "\n",
    "ax.plot(df['B_real']/temperature(filename), df['M'], label='DTO - ' + str(round(temperature(filename),2)) + ' K')   \n",
    "\n",
    "\n",
    "# 1.2K\n",
    "filename = Path8+'1200mK_FC_DTO_22-05-2019.dc.idt'\n",
    "df = Read(filename)\n",
    "UnitsDy(df, [.71,.66,4.55], 11.74)\n",
    "\n",
    "ax.plot(df['B_real']/temperature(filename), df['M'], label='DTO - ' + str(round(temperature(filename),2)) + ' K')   \n",
    "\n",
    "\n",
    "# 1.3K\n",
    "filename = Path8+'1300mK_FC_DTO_21-05-2019.dc.idt'\n",
    "df = Read(filename)\n",
    "UnitsDy(df, [.71,.66,4.55], 11.74)\n",
    "\n",
    "ax.plot(df['B_real']/temperature(filename), df['M'], label='DTO - ' + str(round(temperature(filename),2)) + ' K')   \n",
    "\n",
    "\n",
    "# 1.4K\n",
    "filename = Path8+'1400mK_FC_DTO_22-05-2019.dc.idt'\n",
    "df = Read(filename)\n",
    "UnitsDy(df, [.71,.66,4.55], 11.74)\n",
    "\n",
    "ax.plot(df['B_real']/temperature(filename), df['M'], label='DTO - ' + str(round(temperature(filename),2)) + ' K')    \n",
    "    \n",
    "\n",
    "# Labels\n",
    "Labels(ax, 'B$_{\\mathrm{local}}$ / T (T/K)', 'M ($\\mu_{\\mathrm{Dy}}$ / Dy)', '5')"
   ]
  },
  {
   "cell_type": "markdown",
   "metadata": {},
   "source": [
    "### $\\chi$ * T"
   ]
  },
  {
   "cell_type": "code",
   "execution_count": 5,
   "metadata": {},
   "outputs": [
    {
     "data": {
      "application/vnd.jupyter.widget-view+json": {
       "model_id": "a56070a430cf4985bd2bbfb94f58debb",
       "version_major": 2,
       "version_minor": 0
      },
      "text/plain": [
       "FigureCanvasNbAgg()"
      ]
     },
     "metadata": {},
     "output_type": "display_data"
    }
   ],
   "source": [
    "# Ax\n",
    "fig, ax = plt.subplots()\n",
    "\n",
    "\n",
    "# 0.7K\n",
    "filename = Path8+'700mK_FC_DTO_20-05-2019.dc.idt'\n",
    "df = Read(filename)\n",
    "UnitsDy(df, [.71,.66,4.55], 11.74)\n",
    "df_der = Derivada(df, 'B_real', 'M')\n",
    "\n",
    "ax.plot(df_der['H']/temperature(filename), df_der['Chi']*temperature(filename), label='DTO - ' + str(round(temperature(filename),2)) + ' K')\n",
    "\n",
    "\n",
    "# 0.9K\n",
    "filename = Path8+'900mK_slow_DTO_23-05-2019.dc.idt'\n",
    "df = Read(filename)\n",
    "UnitsDy(df, [.71,.66,4.55], 11.74)\n",
    "df_der = Derivada(df, 'B_real', 'M')\n",
    "\n",
    "ax.plot(df_der['H']/temperature(filename), df_der['Chi']*temperature(filename), label='DTO - ' + str(round(temperature(filename),2)) + ' K')\n",
    "\n",
    "\n",
    "# 1K\n",
    "filename = Path8+'1000mK_FC_DTO_22-05-2019.dc.idt'\n",
    "df = Read(filename)\n",
    "UnitsDy(df, [.71,.66,4.55], 11.74)\n",
    "df_der = Derivada(df, 'B_real', 'M')\n",
    "\n",
    "ax.plot(df_der['H']/temperature(filename), df_der['Chi']*temperature(filename), label='DTO - ' + str(round(temperature(filename),2)) + ' K')\n",
    "\n",
    "\n",
    "# 1.1K\n",
    "filename = Path8+'1100mK_FC_DTO_20-05-2019.dc.idt'\n",
    "df = Read(filename)\n",
    "UnitsDy(df, [.71,.66,4.55], 11.74)\n",
    "df_der = Derivada(df, 'B_real', 'M')\n",
    "\n",
    "ax.plot(df_der['H']/temperature(filename), df_der['Chi']*temperature(filename), label='DTO - ' + str(round(temperature(filename),2)) + ' K')\n",
    "\n",
    "\n",
    "# 1.2K\n",
    "filename = Path8+'1200mK_FC_DTO_22-05-2019.dc.idt'\n",
    "df = Read(filename)\n",
    "UnitsDy(df, [.71,.66,4.55], 11.74)\n",
    "df_der = Derivada(df, 'B_real', 'M')\n",
    "\n",
    "ax.plot(df_der['H']/temperature(filename), df_der['Chi']*temperature(filename), label='DTO - ' + str(round(temperature(filename),2)) + ' K')\n",
    "\n",
    "\n",
    "# 1.3K\n",
    "filename = Path8+'1300mK_FC_DTO_21-05-2019.dc.idt'\n",
    "df = Read(filename)\n",
    "UnitsDy(df, [.71,.66,4.55], 11.74)\n",
    "df_der = Derivada(df, 'B_real', 'M')\n",
    "\n",
    "ax.plot(df_der['H']/temperature(filename), df_der['Chi']*temperature(filename), label='DTO - ' + str(round(temperature(filename),2)) + ' K')\n",
    "\n",
    "\n",
    "# 1.4K\n",
    "filename = Path8+'1400mK_FC_DTO_22-05-2019.dc.idt'\n",
    "df = Read(filename)\n",
    "UnitsDy(df, [.71,.66,4.55], 11.74)\n",
    "df_der = Derivada(df, 'B_real', 'M')\n",
    "\n",
    "ax.plot(df_der['H']/temperature(filename), df_der['Chi']*temperature(filename), label='DTO - ' + str(round(temperature(filename),2)) + ' K')\n",
    "\n",
    "\n",
    "# Labels\n",
    "Labels(ax, 'B$_{\\mathrm{local}}$ / T (T/K)', '$\\chi$ * T', '6')"
   ]
  },
  {
   "cell_type": "markdown",
   "metadata": {},
   "source": [
    "## HTO"
   ]
  },
  {
   "cell_type": "markdown",
   "metadata": {},
   "source": [
    "Sample: HTO_Ox-A1."
   ]
  },
  {
   "cell_type": "markdown",
   "metadata": {},
   "source": [
    "Orientation: [1 0 0]"
   ]
  },
  {
   "cell_type": "markdown",
   "metadata": {},
   "source": [
    "Dimensions: 2.8 x 0.75 x 0.55 mm"
   ]
  },
  {
   "cell_type": "markdown",
   "metadata": {},
   "source": [
    "Weight: 7.5 mg"
   ]
  },
  {
   "cell_type": "markdown",
   "metadata": {},
   "source": [
    "### M"
   ]
  },
  {
   "cell_type": "code",
   "execution_count": 18,
   "metadata": {},
   "outputs": [
    {
     "data": {
      "application/vnd.jupyter.widget-view+json": {
       "model_id": "fdea2b4482cb47f498f9d2915830d2eb",
       "version_major": 2,
       "version_minor": 0
      },
      "text/plain": [
       "FigureCanvasNbAgg()"
      ]
     },
     "metadata": {},
     "output_type": "display_data"
    }
   ],
   "source": [
    "# Ax\n",
    "fig, ax = plt.subplots()\n",
    "\n",
    "\n",
    "# 0.8K\n",
    "filename = Path9+'800mK_HTO_30-05-2019.dc.idt'\n",
    "df = Read(filename)\n",
    "UnitsHo(df, [.75,.55,2.8], 7.5)\n",
    "\n",
    "ax.plot(df['B_real']/temperature(filename), df['M'], label='HTO - ' + str(round(temperature(filename),2)) + ' K')   \n",
    "\n",
    "\n",
    "# 0.9K\n",
    "filename = Path9+'900mK_slow_HTO_28-05-2019.dc.idt'\n",
    "df = Read(filename)\n",
    "UnitsHo(df, [.75,.55,2.8], 7.5)\n",
    "\n",
    "ax.plot(df['B_real']/temperature(filename), df['M'], label='HTO - ' + str(round(temperature(filename),2)) + ' K')   \n",
    "\n",
    "\n",
    "# 1K\n",
    "filename = Path9+'1K_HTO_27-05-2019.dc.idt'\n",
    "df = Read(filename)\n",
    "UnitsHo(df, [.75,.55,2.8], 7.5)\n",
    "\n",
    "ax.plot(df['B_real']/temperature(filename), df['M'], label='HTO - ' + str(round(temperature(filename),2)) + ' K')   \n",
    "\n",
    "\n",
    "# 1.1K\n",
    "filename = Path9+'1100mK_HTO_25-05-2019.dc.idt'\n",
    "df = Read(filename)\n",
    "UnitsHo(df, [.75,.55,2.8], 7.5)\n",
    "\n",
    "ax.plot(df['B_real']/temperature(filename), df['M'], label='HTO - ' + str(round(temperature(filename),2)) + ' K')   \n",
    "\n",
    "\n",
    "# 1.2K\n",
    "filename = Path9+'1200mK_HTO_25-05-2019.dc.idt'\n",
    "df = Read(filename)\n",
    "UnitsHo(df, [.75,.55,2.8], 7.5)\n",
    "\n",
    "ax.plot(df['B_real']/temperature(filename), df['M'], label='HTO - ' + str(round(temperature(filename),2)) + ' K')   \n",
    "\n",
    "\n",
    "# 1.3K\n",
    "filename = Path9+'1300mK_HTO_28-05-2019.dc.idt'\n",
    "df = Read(filename)\n",
    "UnitsHo(df, [.75,.55,2.8], 7.5)\n",
    "\n",
    "ax.plot(df['B_real']/temperature(filename), df['M'], label='HTO - ' + str(round(temperature(filename),2)) + ' K')   \n",
    "\n",
    "\n",
    "# 1.4K\n",
    "filename = Path9+'1400mK_HTO_27-05-2019.dc.idt'\n",
    "df = Read(filename)\n",
    "UnitsHo(df, [.75,.55,2.8], 7.5)\n",
    "\n",
    "ax.plot(df['B_real']/temperature(filename), df['M'], label='HTO - ' + str(round(temperature(filename),2)) + ' K')   \n",
    "\n",
    "\n",
    "# 1.5K\n",
    "filename = Path9+'1500mK_HTO_28-05-2019.dc.idt'\n",
    "df = Read(filename)\n",
    "UnitsHo(df, [.75,.55,2.8], 7.5)\n",
    "\n",
    "ax.plot(df['B_real']/temperature(filename), df['M'], label='HTO - ' + str(round(temperature(filename),2)) + ' K')   \n",
    "\n",
    "\n",
    "# 1.7K\n",
    "filename = Path9+'1700mK_HTO_27-05-2019.dc.idt'\n",
    "df = Read(filename)\n",
    "UnitsHo(df, [.75,.55,2.8], 7.5)\n",
    "\n",
    "ax.plot(df['B_real']/temperature(filename), df['M'], label='HTO - ' + str(round(temperature(filename),2)) + ' K')       \n",
    "    \n",
    "\n",
    "# Labels\n",
    "Labels(ax, 'B$_{\\mathrm{local}}$ / T (T/K)', 'M ($\\mu_{\\mathrm{Ho}}$ / Ho)', '7')"
   ]
  },
  {
   "cell_type": "markdown",
   "metadata": {},
   "source": [
    "### $\\chi$ * T"
   ]
  },
  {
   "cell_type": "code",
   "execution_count": 7,
   "metadata": {},
   "outputs": [
    {
     "data": {
      "application/vnd.jupyter.widget-view+json": {
       "model_id": "32c0f5ced273464c8c22dc8fe9e08f90",
       "version_major": 2,
       "version_minor": 0
      },
      "text/plain": [
       "FigureCanvasNbAgg()"
      ]
     },
     "metadata": {},
     "output_type": "display_data"
    }
   ],
   "source": [
    "# Ax\n",
    "fig, ax = plt.subplots()\n",
    "\n",
    "\n",
    "# 0.8K\n",
    "filename = Path9+'800mK_HTO_30-05-2019.dc.idt'\n",
    "df = Read(filename)\n",
    "UnitsHo(df, [.75,.55,2.8], 7.5)\n",
    "df_der = Derivada(df, 'B_real', 'M')\n",
    "\n",
    "ax.plot(df_der['H']/temperature(filename), df_der['Chi']*df['Temp_mean'].mean(), label='DTO - ' + str(round(temperature(filename),2)) + ' K')\n",
    "\n",
    "\n",
    "# 0.9K\n",
    "filename = Path9+'900mK_slow_HTO_28-05-2019.dc.idt'\n",
    "df = Read(filename)\n",
    "UnitsHo(df, [.75,.55,2.8], 7.5)\n",
    "df_der = Derivada(df, 'B_real', 'M')\n",
    "\n",
    "ax.plot(df_der['H']/temperature(filename), df_der['Chi']*df['Temp_mean'].mean(), label='DTO - ' + str(round(temperature(filename),2)) + ' K')\n",
    "\n",
    "\n",
    "# 1K\n",
    "filename = Path9+'1K_HTO_27-05-2019.dc.idt'\n",
    "df = Read(filename)\n",
    "UnitsHo(df, [.75,.55,2.8], 7.5)\n",
    "df_der = Derivada(df, 'B_real', 'M')\n",
    "\n",
    "ax.plot(df_der['H']/temperature(filename), df_der['Chi']*df['Temp_mean'].mean(), label='DTO - ' + str(round(temperature(filename),2)) + ' K')\n",
    "\n",
    "\n",
    "# 1.1K\n",
    "filename = Path9+'1100mK_HTO_25-05-2019.dc.idt'\n",
    "df = Read(filename)\n",
    "UnitsHo(df, [.75,.55,2.8], 7.5)\n",
    "df_der = Derivada(df, 'B_real', 'M')\n",
    "\n",
    "ax.plot(df_der['H']/temperature(filename), df_der['Chi']*df['Temp_mean'].mean(), label='DTO - ' + str(round(temperature(filename),2)) + ' K')\n",
    "\n",
    "\n",
    "# 1.2K\n",
    "filename = Path9+'1200mK_HTO_25-05-2019.dc.idt'\n",
    "df = Read(filename)\n",
    "UnitsHo(df, [.75,.55,2.8], 7.5)\n",
    "df_der = Derivada(df, 'B_real', 'M')\n",
    "\n",
    "ax.plot(df_der['H']/temperature(filename), df_der['Chi']*df['Temp_mean'].mean(), label='DTO - ' + str(round(temperature(filename),2)) + ' K')\n",
    "\n",
    "\n",
    "# 1.3K\n",
    "filename = Path9+'1300mK_HTO_28-05-2019.dc.idt'\n",
    "df = Read(filename)\n",
    "UnitsHo(df, [.75,.55,2.8], 7.5)\n",
    "df_der = Derivada(df, 'B_real', 'M')\n",
    "\n",
    "ax.plot(df_der['H']/temperature(filename), df_der['Chi']*df['Temp_mean'].mean(), label='DTO - ' + str(round(temperature(filename),2)) + ' K')\n",
    "\n",
    "\n",
    "# 1.4K\n",
    "filename = Path9+'1400mK_HTO_27-05-2019.dc.idt'\n",
    "df = Read(filename)\n",
    "UnitsHo(df, [.75,.55,2.8], 7.5)\n",
    "df_der = Derivada(df, 'B_real', 'M')\n",
    "\n",
    "ax.plot(df_der['H']/temperature(filename), df_der['Chi']*df['Temp_mean'].mean(), label='DTO - ' + str(round(temperature(filename),2)) + ' K')\n",
    "\n",
    "\n",
    "# 1.5K\n",
    "filename = Path9+'1500mK_HTO_28-05-2019.dc.idt'\n",
    "df = Read(filename)\n",
    "UnitsHo(df, [.75,.55,2.8], 7.5)\n",
    "df_der = Derivada(df, 'B_real', 'M')\n",
    "\n",
    "ax.plot(df_der['H']/temperature(filename), df_der['Chi']*df['Temp_mean'].mean(), label='DTO - ' + str(round(temperature(filename),2)) + ' K')\n",
    "\n",
    "\n",
    "# 1.7K\n",
    "filename = Path9+'1700mK_HTO_27-05-2019.dc.idt'\n",
    "df = Read(filename)\n",
    "UnitsHo(df, [.75,.55,2.8], 7.5)\n",
    "df_der = Derivada(df, 'B_real', 'M')\n",
    "\n",
    "ax.plot(df_der['H']/temperature(filename), df_der['Chi']*df['Temp_mean'].mean(), label='DTO - ' + str(round(temperature(filename),2)) + ' K')\n",
    "\n",
    "\n",
    "# Labels\n",
    "Labels(ax, 'B$_{\\mathrm{local}}$ / T (T/K)', '$\\chi$ * T', '8')"
   ]
  },
  {
   "cell_type": "code",
   "execution_count": null,
   "metadata": {},
   "outputs": [],
   "source": []
  }
 ],
 "metadata": {
  "hide_code_all_hidden": false,
  "kernelspec": {
   "display_name": "Python 3",
   "language": "python",
   "name": "python3"
  },
  "language_info": {
   "codemirror_mode": {
    "name": "ipython",
    "version": 3
   },
   "file_extension": ".py",
   "mimetype": "text/x-python",
   "name": "python",
   "nbconvert_exporter": "python",
   "pygments_lexer": "ipython3",
   "version": "3.5.3"
  }
 },
 "nbformat": 4,
 "nbformat_minor": 2
}
