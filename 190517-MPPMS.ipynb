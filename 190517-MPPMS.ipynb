{
 "cells": [
  {
   "cell_type": "code",
   "execution_count": 48,
   "metadata": {
    "hideCode": false,
    "hidePrompt": false
   },
   "outputs": [],
   "source": [
    "%run jl_MPPMS.py"
   ]
  },
  {
   "cell_type": "code",
   "execution_count": 2,
   "metadata": {},
   "outputs": [],
   "source": [
    "%matplotlib ipympl"
   ]
  },
  {
   "cell_type": "code",
   "execution_count": 57,
   "metadata": {
    "hideCode": false,
    "hidePrompt": false
   },
   "outputs": [],
   "source": [
    "# %load ./paths.py\n",
    "Path1 = './190221-HTO_PPMS/'\n",
    "Path2 = './190302-Coils_PPMS/'\n",
    "Path3 = './190316-DTO_PPMS/'\n",
    "Path4 = './190317-SnCalibration_PPMS/'\n",
    "Path5 = './190322-Pre_HTO_StrainMeasurements/'\n",
    "Path6 = './190326-HTO_ZeroStrainMeasurements/'\n",
    "Path7 = './190329-HTO_StrainMeasurements/'\n",
    "Path8 = './190517-DTO_MPPMS/'\n",
    "Path9 = './190524-HTO_MPPMS/'"
   ]
  },
  {
   "cell_type": "markdown",
   "metadata": {
    "toc-hr-collapsed": false
   },
   "source": [
    "# Magnetization measurements using He3 MPPMS"
   ]
  },
  {
   "cell_type": "markdown",
   "metadata": {},
   "source": [
    "## DTO"
   ]
  },
  {
   "cell_type": "markdown",
   "metadata": {},
   "source": [
    "Sample: DTO8-A42"
   ]
  },
  {
   "cell_type": "markdown",
   "metadata": {},
   "source": [
    "Orientation: [1 0 0]"
   ]
  },
  {
   "cell_type": "markdown",
   "metadata": {},
   "source": [
    "Dimensions: 4.55 x 0.71 x 0.66 mm"
   ]
  },
  {
   "cell_type": "markdown",
   "metadata": {},
   "source": [
    "Weight: 11.74 mg"
   ]
  },
  {
   "cell_type": "markdown",
   "metadata": {},
   "source": [
    "### M vs H"
   ]
  },
  {
   "cell_type": "code",
   "execution_count": 62,
   "metadata": {},
   "outputs": [
    {
     "data": {
      "application/vnd.jupyter.widget-view+json": {
       "model_id": "827b292d6175480cb9ff0838eb11db84",
       "version_major": 2,
       "version_minor": 0
      },
      "text/plain": [
       "FigureCanvasNbAgg()"
      ]
     },
     "metadata": {},
     "output_type": "display_data"
    }
   ],
   "source": [
    "# Ax\n",
    "fig, ax = plt.subplots()\n",
    "\n",
    "\n",
    "# Files and plots\n",
    "for file in sorted(os.listdir(Path8)):\n",
    "    \n",
    "    filename=Path8+file\n",
    "    df = Read(filename)\n",
    "    UnitsDy(df, [.71,.66,4.55], 11.74)\n",
    "\n",
    "    ax.plot(df['B_real']/df['Temp_mean'].mean(), df['M'], label='DTO - ' + str(temperature(filename)) + ' K')   \n",
    "    \n",
    "\n",
    "# Labels\n",
    "Labels(ax, 'B', 'M', '1')"
   ]
  },
  {
   "cell_type": "markdown",
   "metadata": {},
   "source": [
    "### $\\chi$ vs H"
   ]
  },
  {
   "cell_type": "code",
   "execution_count": 45,
   "metadata": {},
   "outputs": [
    {
     "data": {
      "application/vnd.jupyter.widget-view+json": {
       "model_id": "05df735bbe444c429cf67cb9f09f6be4",
       "version_major": 2,
       "version_minor": 0
      },
      "text/plain": [
       "FigureCanvasNbAgg()"
      ]
     },
     "metadata": {},
     "output_type": "display_data"
    }
   ],
   "source": [
    "# Ax\n",
    "fig, ax = plt.subplots()\n",
    "\n",
    "\n",
    "# 0.7K\n",
    "filename = Path8+'700mK_FC_DTO_20-05-2019.dc.idt'\n",
    "df = Read(filename)\n",
    "UnitsDy(df, [.71,.66,4.55], 11.74)\n",
    "df_der = Derivada(df, 'B_real', 'M')\n",
    "\n",
    "ax.plot(df_der['H']/df['Temp_mean'].mean(), df_der['Chi']*df['Temp_mean'].mean(), label='DTO - ' + str(temperature(filename)) + ' K')\n",
    "\n",
    "\n",
    "# 0.9K\n",
    "filename = Path8+'900mK_slow_DTO_23-05-2019.dc.idt'\n",
    "df = Read(filename)\n",
    "UnitsDy(df, [.71,.66,4.55], 11.74)\n",
    "df_der = Derivada(df, 'B_real', 'M')\n",
    "\n",
    "ax.plot(df_der['H']/df['Temp_mean'].mean(), df_der['Chi']*df['Temp_mean'].mean(), label='DTO - ' + str(temperature(filename)) + ' K')\n",
    "\n",
    "\n",
    "# 1K\n",
    "filename = Path8+'1000mK_FC_DTO_22-05-2019.dc.idt'\n",
    "df = Read(filename)\n",
    "UnitsDy(df, [.71,.66,4.55], 11.74)\n",
    "df_der = Derivada(df, 'B_real', 'M')\n",
    "\n",
    "ax.plot(df_der['H']/df['Temp_mean'].mean(), df_der['Chi']*df['Temp_mean'].mean(), label='DTO - ' + str(temperature(filename)) + ' K')\n",
    "\n",
    "\n",
    "# 1.1K\n",
    "filename = Path8+'1100mK_FC_DTO_20-05-2019.dc.idt'\n",
    "df = Read(filename)\n",
    "UnitsDy(df, [.71,.66,4.55], 11.74)\n",
    "df_der = Derivada(df, 'B_real', 'M')\n",
    "\n",
    "ax.plot(df_der['H']/df['Temp_mean'].mean(), df_der['Chi']*df['Temp_mean'].mean(), label='DTO - ' + str(temperature(filename)) + ' K')\n",
    "\n",
    "\n",
    "# 1.2K\n",
    "filename = Path8+'1200mK_FC_DTO_22-05-2019.dc.idt'\n",
    "df = Read(filename)\n",
    "UnitsDy(df, [.71,.66,4.55], 11.74)\n",
    "df_der = Derivada(df, 'B_real', 'M')\n",
    "\n",
    "ax.plot(df_der['H']/df['Temp_mean'].mean(), df_der['Chi']*df['Temp_mean'].mean(), label='DTO - ' + str(temperature(filename)) + ' K')\n",
    "\n",
    "\n",
    "# 1.3K\n",
    "filename = Path8+'1300mK_FC_DTO_21-05-2019.dc.idt'\n",
    "df = Read(filename)\n",
    "UnitsDy(df, [.71,.66,4.55], 11.74)\n",
    "df_der = Derivada(df, 'B_real', 'M')\n",
    "\n",
    "ax.plot(df_der['H']/df['Temp_mean'].mean(), df_der['Chi']*df['Temp_mean'].mean(), label='DTO - ' + str(temperature(filename)) + ' K')\n",
    "\n",
    "\n",
    "# 1.4K\n",
    "filename = Path8+'1400mK_FC_DTO_22-05-2019.dc.idt'\n",
    "df = Read(filename)\n",
    "UnitsDy(df, [.71,.66,4.55], 11.74)\n",
    "df_der = Derivada(df, 'B_real', 'M')\n",
    "\n",
    "ax.plot(df_der['H']/df['Temp_mean'].mean(), df_der['Chi']*df['Temp_mean'].mean(), label='DTO - ' + str(temperature(filename)) + ' K')\n",
    "\n",
    "\n",
    "\n",
    "# Labels\n",
    "Labels(ax, 'B', '$\\chi$', '2')"
   ]
  },
  {
   "cell_type": "markdown",
   "metadata": {},
   "source": [
    "## HTO"
   ]
  },
  {
   "cell_type": "markdown",
   "metadata": {},
   "source": [
    "Sample: HTO_Ox-A1."
   ]
  },
  {
   "cell_type": "markdown",
   "metadata": {},
   "source": [
    "Orientation: [1 0 0]"
   ]
  },
  {
   "cell_type": "markdown",
   "metadata": {},
   "source": [
    "Dimensions: 2.8 x 0.75 x 0.55 mm"
   ]
  },
  {
   "cell_type": "markdown",
   "metadata": {},
   "source": [
    "Weight: 7.5 mg"
   ]
  },
  {
   "cell_type": "markdown",
   "metadata": {},
   "source": [
    "### M vs H"
   ]
  },
  {
   "cell_type": "code",
   "execution_count": 63,
   "metadata": {},
   "outputs": [
    {
     "data": {
      "application/vnd.jupyter.widget-view+json": {
       "model_id": "dc58aaffe7204b99836aad43989700a6",
       "version_major": 2,
       "version_minor": 0
      },
      "text/plain": [
       "FigureCanvasNbAgg()"
      ]
     },
     "metadata": {},
     "output_type": "display_data"
    }
   ],
   "source": [
    "# Ax\n",
    "fig, ax = plt.subplots()\n",
    "\n",
    "\n",
    "# Files and plots\n",
    "for file in sorted(os.listdir(Path9)):\n",
    "    \n",
    "    filename=Path9+file\n",
    "    df = Read(filename)\n",
    "    UnitsHo(df, [.75,.55,2.8], 7.5)\n",
    "\n",
    "    ax.plot(df['B_real']/df['Temp_mean'].mean(), df['M'], label='HTO - ' + str(temperature(filename)) + ' K')   \n",
    "    \n",
    "\n",
    "# Labels\n",
    "Labels(ax, 'B', 'M', '3')"
   ]
  },
  {
   "cell_type": "markdown",
   "metadata": {},
   "source": [
    "### $\\chi$ vs H"
   ]
  },
  {
   "cell_type": "code",
   "execution_count": 64,
   "metadata": {},
   "outputs": [
    {
     "data": {
      "application/vnd.jupyter.widget-view+json": {
       "model_id": "72dc3d1c96c945a693bd1c9b745628a9",
       "version_major": 2,
       "version_minor": 0
      },
      "text/plain": [
       "FigureCanvasNbAgg()"
      ]
     },
     "metadata": {},
     "output_type": "display_data"
    }
   ],
   "source": [
    "# Ax\n",
    "fig, ax = plt.subplots()\n",
    "\n",
    "\n",
    "# 0.9K\n",
    "filename = Path9+'900mK_ZFC_HTO_25-05-2019.dc.idt'\n",
    "df = Read(filename)\n",
    "UnitsHo(df, [.75,.55,2.8], 7.5)\n",
    "df_der = Derivada(df, 'B_real', 'M')\n",
    "\n",
    "ax.plot(df_der['H']/df['Temp_mean'].mean(), df_der['Chi']*df['Temp_mean'].mean(), label='DTO - ' + str(temperature(filename)) + ' K')\n",
    "\n",
    "\n",
    "# 1K\n",
    "filename = Path9+'1K_HTO_27-05-2019.dc.idt'\n",
    "df = Read(filename)\n",
    "UnitsHo(df, [.75,.55,2.8], 7.5)\n",
    "df_der = Derivada(df, 'B_real', 'M')\n",
    "\n",
    "ax.plot(df_der['H']/df['Temp_mean'].mean(), df_der['Chi']*df['Temp_mean'].mean(), label='DTO - ' + str(temperature(filename)) + ' K')\n",
    "\n",
    "\n",
    "# 1.1K\n",
    "filename = Path9+'1100mK_HTO_25-05-2019.dc.idt'\n",
    "df = Read(filename)\n",
    "UnitsHo(df, [.75,.55,2.8], 7.5)\n",
    "df_der = Derivada(df, 'B_real', 'M')\n",
    "\n",
    "ax.plot(df_der['H']/df['Temp_mean'].mean(), df_der['Chi']*df['Temp_mean'].mean(), label='DTO - ' + str(temperature(filename)) + ' K')\n",
    "\n",
    "\n",
    "# 1.2K\n",
    "filename = Path9+'1200mK_HTO_25-05-2019.dc.idt'\n",
    "df = Read(filename)\n",
    "UnitsHo(df, [.75,.55,2.8], 7.5)\n",
    "df_der = Derivada(df, 'B_real', 'M')\n",
    "\n",
    "ax.plot(df_der['H']/df['Temp_mean'].mean(), df_der['Chi']*df['Temp_mean'].mean(), label='DTO - ' + str(temperature(filename)) + ' K')\n",
    "\n",
    "\n",
    "# 1.4K\n",
    "filename = Path9+'1400mK_HTO_27-05-2019.dc.idt'\n",
    "df = Read(filename)\n",
    "UnitsHo(df, [.75,.55,2.8], 7.5)\n",
    "df_der = Derivada(df, 'B_real', 'M')\n",
    "\n",
    "ax.plot(df_der['H']/df['Temp_mean'].mean(), df_der['Chi']*df['Temp_mean'].mean(), label='DTO - ' + str(temperature(filename)) + ' K')\n",
    "\n",
    "\n",
    "# 1.7K\n",
    "filename = Path9+'1700mK_HTO_27-05-2019.dc.idt'\n",
    "df = Read(filename)\n",
    "UnitsHo(df, [.75,.55,2.8], 7.5)\n",
    "df_der = Derivada(df, 'B_real', 'M')\n",
    "\n",
    "ax.plot(df_der['H']/df['Temp_mean'].mean(), df_der['Chi']*df['Temp_mean'].mean(), label='DTO - ' + str(temperature(filename)) + ' K')\n",
    "\n",
    "\n",
    "\n",
    "# Labels\n",
    "Labels(ax, 'B', '$\\chi$', '4')"
   ]
  },
  {
   "cell_type": "code",
   "execution_count": null,
   "metadata": {},
   "outputs": [],
   "source": []
  }
 ],
 "metadata": {
  "hide_code_all_hidden": false,
  "kernelspec": {
   "display_name": "Python 3",
   "language": "python",
   "name": "python3"
  },
  "language_info": {
   "codemirror_mode": {
    "name": "ipython",
    "version": 3
   },
   "file_extension": ".py",
   "mimetype": "text/x-python",
   "name": "python",
   "nbconvert_exporter": "python",
   "pygments_lexer": "ipython3",
   "version": "3.5.3"
  }
 },
 "nbformat": 4,
 "nbformat_minor": 2
}
